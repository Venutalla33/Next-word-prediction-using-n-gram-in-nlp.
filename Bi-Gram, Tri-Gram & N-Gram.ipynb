{
 "cells": [
  {
   "cell_type": "code",
   "execution_count": 1,
   "id": "c225c812",
   "metadata": {},
   "outputs": [],
   "source": [
    "import re\n",
    "import numpy as np\n",
    "import pandas as pd\n",
    "from tqdm import tqdm \n",
    "\n",
    "\n",
    "with open('big.txt','r') as fd:\n",
    "    lines = fd.readlines()\n",
    "    words = []\n",
    "    for line in lines:\n",
    "        words += re.findall('\\w+', line.lower())"
   ]
  },
  {
   "cell_type": "markdown",
   "id": "a99e5621",
   "metadata": {},
   "source": [
    "# 1. Finding the Pairs"
   ]
  },
  {
   "cell_type": "code",
   "execution_count": 2,
   "id": "b28ad3e2",
   "metadata": {},
   "outputs": [],
   "source": [
    "def get_pairs(words, n):\n",
    "    \n",
    "    n = n+1  \n",
    "    data = []\n",
    "    for i in range(len(words) - n):\n",
    "        data.append(' '.join(words[i:i+n]))\n",
    "    return data"
   ]
  },
  {
   "cell_type": "markdown",
   "id": "b6cbe461",
   "metadata": {},
   "source": [
    "# 2. Finding Occurence Probabilities"
   ]
  },
  {
   "cell_type": "code",
   "execution_count": 3,
   "id": "a12eb67f",
   "metadata": {},
   "outputs": [],
   "source": [
    "def get_prob_dist(data):\n",
    "    \n",
    "    a = np.array(data)\n",
    "\n",
    "    pair , count = np.unique(a, return_counts = True)\n",
    "    unique_pairs = list(set(data))\n",
    "\n",
    "    prob_dist = []\n",
    "\n",
    "    for i in range(len(unique_pairs)):\n",
    "        prob_dist.append([unique_pairs[i] , ' '.join(unique_pairs[i].split(' ')[:-1]), unique_pairs[i].split(' ')[-1], count[i]])\n",
    "\n",
    "    return prob_dist"
   ]
  },
  {
   "cell_type": "code",
   "execution_count": 4,
   "id": "02056112",
   "metadata": {},
   "outputs": [],
   "source": [
    "data = get_pairs(words,4)\n",
    "prob_dist = get_prob_dist(data)"
   ]
  },
  {
   "cell_type": "markdown",
   "id": "6bd8a4d4",
   "metadata": {},
   "source": [
    "# 3. Predicting the Words"
   ]
  },
  {
   "cell_type": "code",
   "execution_count": 5,
   "id": "179a0714",
   "metadata": {},
   "outputs": [
    {
     "data": {
      "text/plain": [
       "array(['country'], dtype=object)"
      ]
     },
     "execution_count": 5,
     "metadata": {},
     "output_type": "execute_result"
    }
   ],
   "source": [
    "df = pd.DataFrame(prob_dist, columns = ['seq','inp','out','freq'])\n",
    "df.head()\n",
    "\n",
    "\n",
    "def predict(word):\n",
    "\n",
    "    if len(df[df['inp'] == word]):\n",
    "        df_ = df[df['inp'] == word]\n",
    "        return df_.sort_values(by = 'freq').head()['out'].values\n",
    "    else:\n",
    "        print('Seq is not present')\n",
    "        \n",
    "predict('this is a beautiful')"
   ]
  },
  {
   "cell_type": "markdown",
   "id": "7a2acb9c",
   "metadata": {},
   "source": [
    "# 3.1) Prediction for One Word"
   ]
  },
  {
   "cell_type": "code",
   "execution_count": 6,
   "id": "196b43b9",
   "metadata": {},
   "outputs": [
    {
     "name": "stdout",
     "output_type": "stream",
     "text": [
      "Seq is not present\n"
     ]
    }
   ],
   "source": [
    "predict('the is a beautiful')"
   ]
  },
  {
   "cell_type": "markdown",
   "id": "f09edd2d",
   "metadata": {},
   "source": [
    "# 3.2) Prediction with auto Sequencing"
   ]
  },
  {
   "cell_type": "code",
   "execution_count": 8,
   "id": "23080702",
   "metadata": {},
   "outputs": [
    {
     "data": {
      "text/plain": [
       "'of the united states would not omit any word or any act necessary to the performance of its sacred duty of maintaining the rights of the united states would not omit any word or any act necessary to the performance of its sacred duty of maintaining the rights of the united states would not'"
      ]
     },
     "execution_count": 8,
     "metadata": {},
     "output_type": "execute_result"
    }
   ],
   "source": [
    "def pred_seq(seq,n):\n",
    "\n",
    "    output = []\n",
    "    output.append(seq)\n",
    "\n",
    "    for i in range(n):\n",
    "\n",
    "        pred = predict(seq)\n",
    "        seq = ' '.join(seq.split(' ')[1:]) + ' ' + pred[0]\n",
    "        output.append(pred[0])\n",
    "        \n",
    "    return ' '.join(output)\n",
    "    \n",
    "pred_seq('of the united states', 50)"
   ]
  },
  {
   "cell_type": "code",
   "execution_count": null,
   "id": "02f42bae",
   "metadata": {},
   "outputs": [],
   "source": []
  }
 ],
 "metadata": {
  "kernelspec": {
   "display_name": "Python 3 (ipykernel)",
   "language": "python",
   "name": "python3"
  },
  "language_info": {
   "codemirror_mode": {
    "name": "ipython",
    "version": 3
   },
   "file_extension": ".py",
   "mimetype": "text/x-python",
   "name": "python",
   "nbconvert_exporter": "python",
   "pygments_lexer": "ipython3",
   "version": "3.11.5"
  }
 },
 "nbformat": 4,
 "nbformat_minor": 5
}
