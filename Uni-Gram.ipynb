{
 "cells": [
  {
   "cell_type": "code",
   "execution_count": 1,
   "id": "77875878",
   "metadata": {},
   "outputs": [],
   "source": [
    "import re\n",
    "import numpy as np\n",
    "import pandas as pd\n",
    "from tqdm import tqdm "
   ]
  },
  {
   "cell_type": "markdown",
   "id": "7f81aa99",
   "metadata": {},
   "source": [
    "# 1. Finding the Pairs"
   ]
  },
  {
   "cell_type": "code",
   "execution_count": 2,
   "id": "7b437585",
   "metadata": {},
   "outputs": [],
   "source": [
    "with open('big.txt','r') as fd:\n",
    "    lines = fd.readlines()\n",
    "    words = []\n",
    "    for line in lines:\n",
    "        words += re.findall('\\w+', line.lower())\n",
    "        \n",
    "def get_pairs(words):\n",
    "    data = []\n",
    "    for i in range(len(words)-1):\n",
    "        data.append(' '.join(words[i:i+2]))\n",
    "    return data\n",
    "\n",
    "data = get_pairs(words)"
   ]
  },
  {
   "cell_type": "markdown",
   "id": "2c6cfbdc",
   "metadata": {},
   "source": [
    "# 2. Finding Occurence Probabilities\n"
   ]
  },
  {
   "cell_type": "code",
   "execution_count": 3,
   "id": "3b2a5bce",
   "metadata": {},
   "outputs": [
    {
     "name": "stdout",
     "output_type": "stream",
     "text": [
      "------------------------------\n",
      "Total Pairs :  1115584\n",
      "Unique Pairs :  390694\n",
      "------------------------------\n",
      "390694\n"
     ]
    }
   ],
   "source": [
    "a = np.array(data)\n",
    "\n",
    "pair , count = np.unique(a, return_counts = True)\n",
    "\n",
    "print('-'*30)\n",
    "print('Total Pairs : ' , len(data))\n",
    "unique_pairs = list(set(data))\n",
    "print('Unique Pairs : ', len(pair))\n",
    "print('-'*30)\n",
    "\n",
    "\n",
    "prob_dist = []\n",
    "for i in range(len(pair)):\n",
    "    prob_dist.append([pair[i] ,count[i] , pair[i].split(' ')[-1]])\n",
    "    \n",
    "print(len(prob_dist))"
   ]
  },
  {
   "cell_type": "markdown",
   "id": "3c1aeb82",
   "metadata": {},
   "source": [
    "# 3. Predicting the Words"
   ]
  },
  {
   "cell_type": "code",
   "execution_count": 4,
   "id": "5f8be028",
   "metadata": {},
   "outputs": [],
   "source": [
    "df = pd.DataFrame(prob_dist, columns = ['pair','freq','out'])\n",
    "df = df[df['freq'] >= 5]\n",
    "df.head()\n",
    "\n",
    "\n",
    "def predict(word):\n",
    "    \n",
    "    df_pred = []\n",
    "    for i in df.values:\n",
    "        if i[0].split(' ')[0] == word:\n",
    "            df_pred.append([i[0], i[1], i[2]])\n",
    "\n",
    "    df_pred = pd.DataFrame(df_pred, columns = ['in','freq','out'])\n",
    "    return list(df_pred.sort_values(by = 'freq', ascending = False).head()['out'].values)"
   ]
  },
  {
   "cell_type": "markdown",
   "id": "fbf1fc52",
   "metadata": {},
   "source": [
    "# 3.1) Prediction for One Word"
   ]
  },
  {
   "cell_type": "code",
   "execution_count": 5,
   "id": "896754a4",
   "metadata": {},
   "outputs": [
    {
     "data": {
      "text/plain": [
       "['same', 'french', 'first', 'old', 'emperor']"
      ]
     },
     "execution_count": 5,
     "metadata": {},
     "output_type": "execute_result"
    }
   ],
   "source": [
    "predict('the')"
   ]
  },
  {
   "cell_type": "markdown",
   "id": "1d5ac87f",
   "metadata": {},
   "source": [
    "# 3.2) Prediction with auto Sequencing"
   ]
  },
  {
   "cell_type": "code",
   "execution_count": 7,
   "id": "d9baf236",
   "metadata": {},
   "outputs": [
    {
     "name": "stdout",
     "output_type": "stream",
     "text": [
      "of the same time to the same time to the same time to the same time to the same time "
     ]
    }
   ],
   "source": [
    "word = 'one'\n",
    "\n",
    "for i in range(20):\n",
    "\n",
    "    pred = predict(word)\n",
    "    word = pred[0]\n",
    "    \n",
    "    print(word, end = ' ')"
   ]
  },
  {
   "cell_type": "markdown",
   "id": "8f16eea9",
   "metadata": {},
   "source": [
    "# 3.3) Prediction with manual Sequencing"
   ]
  },
  {
   "cell_type": "code",
   "execution_count": 8,
   "id": "5e0f989b",
   "metadata": {},
   "outputs": [
    {
     "name": "stdout",
     "output_type": "stream",
     "text": [
      "['is', 'was', 'way', 'and', 'time']\n",
      "Enter the Index : 0\n",
      "['a', 'the', 'not', 'to', 'it']\n",
      "Enter the Index : 1\n",
      "['same', 'french', 'first', 'old', 'emperor']\n",
      "Enter the Index : 2\n",
      "['time', 'to', 'of', 'and', 'place']\n",
      "Enter the Index : 3\n",
      "['the', 'a', 'in', 'that', 'he']\n",
      "Enter the Index : 4\n",
      "--------------------\n",
      "this is the first and he\n",
      "--------------------\n"
     ]
    }
   ],
   "source": [
    "word = 'this'\n",
    "\n",
    "preds = []\n",
    "preds.append(word)\n",
    "\n",
    "for i in range(5):\n",
    "\n",
    "    pred = predict(word)\n",
    "    print(pred)\n",
    "    word = pred[int(input('Enter the Index : '))]\n",
    "    preds.append(word)\n",
    "    \n",
    "print('-'*20)\n",
    "print(' '.join(preds))\n",
    "print('-'*20)"
   ]
  },
  {
   "cell_type": "code",
   "execution_count": null,
   "id": "77d4d868",
   "metadata": {},
   "outputs": [],
   "source": []
  }
 ],
 "metadata": {
  "kernelspec": {
   "display_name": "Python 3 (ipykernel)",
   "language": "python",
   "name": "python3"
  },
  "language_info": {
   "codemirror_mode": {
    "name": "ipython",
    "version": 3
   },
   "file_extension": ".py",
   "mimetype": "text/x-python",
   "name": "python",
   "nbconvert_exporter": "python",
   "pygments_lexer": "ipython3",
   "version": "3.11.5"
  }
 },
 "nbformat": 4,
 "nbformat_minor": 5
}
